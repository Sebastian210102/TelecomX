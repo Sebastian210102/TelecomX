{
  "nbformat": 4,
  "nbformat_minor": 0,
  "metadata": {
    "colab": {
      "provenance": [],
      "authorship_tag": "ABX9TyP9+TTGp8VF32c2wqeQHd4T",
      "include_colab_link": true
    },
    "kernelspec": {
      "name": "python3",
      "display_name": "Python 3"
    },
    "language_info": {
      "name": "python"
    }
  },
  "cells": [
    {
      "cell_type": "markdown",
      "metadata": {
        "id": "view-in-github",
        "colab_type": "text"
      },
      "source": [
        "<a href=\"https://colab.research.google.com/github/Sebastian210102/TelecomX/blob/main/TelecomX.ipynb\" target=\"_parent\"><img src=\"https://colab.research.google.com/assets/colab-badge.svg\" alt=\"Open In Colab\"/></a>"
      ]
    },
    {
      "cell_type": "markdown",
      "source": [
        "# Proyecto Telecom X"
      ],
      "metadata": {
        "id": "cD0JAID-DYxg"
      }
    },
    {
      "cell_type": "markdown",
      "source": [
        "## Comandos Github"
      ],
      "metadata": {
        "id": "0u5RrxDXDd6G"
      }
    },
    {
      "cell_type": "code",
      "execution_count": null,
      "metadata": {
        "colab": {
          "base_uri": "https://localhost:8080/"
        },
        "id": "JA4T4jNaDFu9",
        "outputId": "187c8279-af9f-4114-d2ff-8858ffcf40ed"
      },
      "outputs": [
        {
          "output_type": "stream",
          "name": "stdout",
          "text": [
            "Reinitialized existing Git repository in /content/TelecomX/TelecomX/.git/\n"
          ]
        }
      ],
      "source": [
        "!git init\n"
      ]
    },
    {
      "cell_type": "code",
      "source": [
        "!git config --global user.email \"sebastian.rabadangranados@gmail.com\"\n",
        "!git config --global user.name \"Sebastian210102\"\n"
      ],
      "metadata": {
        "id": "zxMZqE6xE9oX"
      },
      "execution_count": null,
      "outputs": []
    },
    {
      "cell_type": "code",
      "source": [
        "!git add .\n",
        "!git commit -m \"Primer commit desde Colab\"\n"
      ],
      "metadata": {
        "colab": {
          "base_uri": "https://localhost:8080/"
        },
        "id": "g04q64FKGjOq",
        "outputId": "8529c08b-268b-477e-c302-5fa1f399b9bf"
      },
      "execution_count": null,
      "outputs": [
        {
          "output_type": "stream",
          "name": "stdout",
          "text": [
            "On branch main\n",
            "\n",
            "Initial commit\n",
            "\n",
            "nothing to commit (create/copy files and use \"git add\" to track)\n"
          ]
        }
      ]
    },
    {
      "cell_type": "code",
      "source": [
        "!git remote add origin https://github.com/Sebastian210102/TelecomX.git\n",
        "!git branch -M main\n",
        "!git push -u origin main\n"
      ],
      "metadata": {
        "colab": {
          "base_uri": "https://localhost:8080/"
        },
        "id": "IUiYmsJoGo8h",
        "outputId": "fb0a0e20-7ddd-4731-ba7a-dd5320a5baf4"
      },
      "execution_count": null,
      "outputs": [
        {
          "output_type": "stream",
          "name": "stdout",
          "text": [
            "error: remote origin already exists.\n",
            "error: src refspec main does not match any\n",
            "\u001b[31merror: failed to push some refs to 'https://github.com/Sebastian210102/TelecomX.git'\n",
            "\u001b[m"
          ]
        }
      ]
    },
    {
      "cell_type": "code",
      "source": [
        "!pwd\n",
        "!ls\n"
      ],
      "metadata": {
        "colab": {
          "base_uri": "https://localhost:8080/"
        },
        "id": "b4DU5f8UG1Dh",
        "outputId": "3d61ead4-20eb-4835-817f-96aa026f5989"
      },
      "execution_count": null,
      "outputs": [
        {
          "output_type": "stream",
          "name": "stdout",
          "text": [
            "/content/TelecomX/TelecomX\n"
          ]
        }
      ]
    },
    {
      "cell_type": "code",
      "source": [
        "import pandas as pd\n",
        "import numpy as np\n",
        "import matplotlib.pyplot as plt\n",
        "import seaborn as sns"
      ],
      "metadata": {
        "id": "6AY8yBUbHHmi"
      },
      "execution_count": 1,
      "outputs": []
    },
    {
      "cell_type": "code",
      "source": [],
      "metadata": {
        "id": "0t5vSzULCF_t"
      },
      "execution_count": null,
      "outputs": []
    }
  ]
}